{
 "cells": [
  {
   "cell_type": "raw",
   "metadata": {},
   "source": [
    "<script>\n",
    "  jQuery(document).ready(function($) {  \n",
    "  \n",
    "  $(window).on('load', function(){\n",
    "    $('#preloader').fadeOut('slow',function(){$(this).remove();});\n",
    "  });\n",
    "  \n",
    "  });\n",
    "</script>\n",
    "\n",
    "<style type=\"text/css\">\n",
    "  div#preloader { position: fixed; \n",
    "      left: 0; \n",
    "      top: 0; \n",
    "      z-index: 999; \n",
    "      width: 100%; \n",
    "      height: 100%; \n",
    "      overflow: visible; \n",
    "      background: #fff url('http://preloaders.net/preloaders/720/Moving%20line.gif') no-repeat center center; \n",
    "  }\n",
    "\n",
    "</style>\n",
    "\n",
    "<div id=\"preloader\">\n",
    "\n",
    "</div>"
   ]
  },
  {
   "cell_type": "markdown",
   "metadata": {},
   "source": [
    "<h3 align=\"center\">Wrangle and analyze data8 </h3> \n",
    "<h3 align=\"center\">Merzu K Belete </h3> \n",
    "<h3 align=\"center\">May, 2018 </h3> "
   ]
  },
  {
   "cell_type": "markdown",
   "metadata": {},
   "source": [
    "<a id='Introduction'></a>\n",
    "\n",
    "### Introduction\n",
    "\n",
    "WeRateDogs is a Twitter account that rates dogs picture with a nice comment twitted by users. It was started in 2015 by Matt Nelson, and has received international media coverage both for its popularity and for the attention drawn to social media copyright law when it was suspended by Twitter. As of October 2017, the Twitter account has close to four million followers and Nelson sees 30,000 likes on a post as being viral. His most popular post was of a dog marching in the 2017 Women's March, which was retweeted more than 50,000 times and favourited 134,000 times [[ref 1](https://en.wikipedia.org/wiki/WeRateDogs)]."
   ]
  },
  {
   "cell_type": "markdown",
   "metadata": {},
   "source": [
    "### Highly rated, highly tweeted and favorite dog"
   ]
  },
  {
   "cell_type": "markdown",
   "metadata": {},
   "source": [
    "The highly rated dog was Atticus on July 4, 2017. He dressed nicely with an American flag on the day of independence day. He was rated with this comment \"This is Atticus He's quite simply America af 1776/10\". While the most retweeted and favourite is a dog name Stephan with a humorous comment \"'This is Stephan He just wants to help 13/10 such a good boy https://tco/DkBYaCAg2d'\". "
   ]
  },
  {
   "cell_type": "code",
   "execution_count": 1,
   "metadata": {},
   "outputs": [
    {
     "data": {
      "text/html": [
       "<table><tr><td><img style='width: 300px; margin: 1px; float: left; border: 1px solid black;' src='Highly_rated_dog.png'></td><td><img style='width: 310px; margin: 1px; float: left; border: 1px solid black;' src='High_faborite_high_twitted.jpg'></td></tr></table>"
      ],
      "text/plain": [
       "<IPython.core.display.HTML object>"
      ]
     },
     "metadata": {},
     "output_type": "display_data"
    }
   ],
   "source": [
    "from IPython.display import HTML, display\n",
    "display(HTML(\"<table><tr><td><img style='width: 300px; margin: 1px; float: left; border: 1px solid black;' src='Highly_rated_dog.png'></td><td><img style='width: 310px; margin: 1px; float: left; border: 1px solid black;' src='High_faborite_high_twitted.jpg'></td></tr></table>\"))"
   ]
  },
  {
   "cell_type": "markdown",
   "metadata": {},
   "source": [
    "###  Dogs are getting a higher rating\n",
    "A pie chart shows the gender distribution of dogs, close to 50% of the dogs are male, close to 20% are female and the remaining I could not get the gender of the dog from the tweeter message. While a boxplot showing every single dog rating from 2015 to 2017. Dogs are getting a better rating. The question is why? Maybe more good dogs pictures are coming to Twitter or good dogs are more breeding, or the WeDogRates might be more generous these years."
   ]
  },
  {
   "cell_type": "code",
   "execution_count": 2,
   "metadata": {},
   "outputs": [
    {
     "data": {
      "text/html": [
       "<table><tr><td><img style='width: 280px; margin: 1px; float: left; border: 1px solid black;' src='gender_pie_chart.png'></td><td><img style='width: 420px; margin: 5px; float: left; border: 1px solid black;' src='Rating_per_year.png'></td></tr></table>"
      ],
      "text/plain": [
       "<IPython.core.display.HTML object>"
      ]
     },
     "metadata": {},
     "output_type": "display_data"
    }
   ],
   "source": [
    "#Image(filename=\"Rating_per_year.png\", width=600, height=100)\n",
    "display(HTML(\"<table><tr><td><img style='width: 280px; margin: 1px; float: left; border: 1px solid black;' src='gender_pie_chart.png'></td><td><img style='width: 420px; margin: 5px; float: left; border: 1px solid black;' src='Rating_per_year.png'></td></tr></table>\"))"
   ]
  },
  {
   "cell_type": "markdown",
   "metadata": {},
   "source": [
    "### Dynamics of the mean rating \n",
    "WeRateDogs does not rate dogs between 7 to 12. The mean rating does not significantly change with the rating hours, while it tends to have a high rating at early morning.  However, The mean rating is lower in the month of November and December."
   ]
  },
  {
   "cell_type": "code",
   "execution_count": 3,
   "metadata": {},
   "outputs": [
    {
     "data": {
      "text/html": [
       "<table><tr><td><img style='width: 650px; margin: 1px; float: left; border: 1px solid black;' src='Rating_per_hour.png'></td><td><img style='width: 320px; margin: 1px; float: left; border: 1px solid black;' src='Rating_per_month.png'></td></tr></table>"
      ],
      "text/plain": [
       "<IPython.core.display.HTML object>"
      ]
     },
     "metadata": {},
     "output_type": "display_data"
    }
   ],
   "source": [
    "display(HTML(\"<table><tr><td><img style='width: 650px; margin: 1px; float: left; border: 1px solid black;' src='Rating_per_hour.png'></td><td><img style='width: 320px; margin: 1px; float: left; border: 1px solid black;' src='Rating_per_month.png'></td></tr></table>\"))"
   ]
  },
  {
   "cell_type": "markdown",
   "metadata": {},
   "source": [
    "### More retweet and favorite count over time\n",
    "Retweet and favourite counts are highly correlated and are increasing over time as well. There is a positive correlation between the rating and the ratio of favourite and retweet and more pronounced for female dogs. Moreover, female dogs have a higher mean rating. However, if we look correlation all data without grouping by gender, these correlation is almost zero. "
   ]
  },
  {
   "cell_type": "code",
   "execution_count": 4,
   "metadata": {},
   "outputs": [
    {
     "data": {
      "text/html": [
       "<table><tr><td><img style='width: 450px; margin: 1px; float: left; border: 1px solid black;' src='favorite_Retweet_count.png'></td><td><img style='width: 370px; margin: 10px; float: left; border: 1px solid black;' src='Favorite count_Retweet_count.png'></td></tr></table>"
      ],
      "text/plain": [
       "<IPython.core.display.HTML object>"
      ]
     },
     "metadata": {},
     "output_type": "display_data"
    }
   ],
   "source": [
    "display(HTML(\"<table><tr><td><img style='width: 450px; margin: 1px; float: left; border: 1px solid black;' src='favorite_Retweet_count.png'></td><td><img style='width: 370px; margin: 10px; float: left; border: 1px solid black;' src='Favorite count_Retweet_count.png'></td></tr></table>\"))"
   ]
  },
  {
   "cell_type": "markdown",
   "metadata": {},
   "source": [
    "### Methodology and conclusion \n",
    "These figures are generated by removing outlier ratings. Specifically, I removed rating with greater than 20. These true outliers will skew the distribution if they plotted together. \n",
    "The dog rating is getting better and bad dogs (less than 10 rating) rarely found recently.  There are multiple reasons that we might not answer from this data. For example, dog breeds are getting better, WeRatedogs might be more generous, these twitters who send picture might not sample from the general dog population.  "
   ]
  },
  {
   "cell_type": "raw",
   "metadata": {},
   "source": [
    "<script>\n",
    "  $(document).ready(function(){\n",
    "    $('div.prompt').hide();\n",
    "    $('div.back-to-top').hide();\n",
    "    $('nav#menubar').hide();\n",
    "    $('.breadcrumb').hide();\n",
    "    $('.hidden-print').hide();\n",
    "  });\n",
    "</script>\n",
    "\n",
    "<footer id=\"attribution\" style=\"float:right; color:#999; background:#fff;\">\n",
    "Created by Merzu Belete.\n",
    "</footer>"
   ]
  }
 ],
 "metadata": {
  "kernelspec": {
   "display_name": "Python 2",
   "language": "python",
   "name": "python2"
  },
  "language_info": {
   "codemirror_mode": {
    "name": "ipython",
    "version": 2
   },
   "file_extension": ".py",
   "mimetype": "text/x-python",
   "name": "python",
   "nbconvert_exporter": "python",
   "pygments_lexer": "ipython2",
   "version": "2.7.14"
  }
 },
 "nbformat": 4,
 "nbformat_minor": 2
}
