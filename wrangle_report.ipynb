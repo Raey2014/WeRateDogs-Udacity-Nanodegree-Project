{
 "cells": [
  {
   "cell_type": "raw",
   "metadata": {},
   "source": [
    "<script>\n",
    "  jQuery(document).ready(function($) {  \n",
    "  \n",
    "  $(window).on('load', function(){\n",
    "    $('#preloader').fadeOut('slow',function(){$(this).remove();});\n",
    "  });\n",
    "  \n",
    "  });\n",
    "</script>\n",
    "\n",
    "<style type=\"text/css\">\n",
    "  div#preloader { position: fixed; \n",
    "      left: 0; \n",
    "      top: 0; \n",
    "      z-index: 999; \n",
    "      width: 100%; \n",
    "      height: 100%; \n",
    "      overflow: visible; \n",
    "      background: #fff url('http://preloaders.net/preloaders/720/Moving%20line.gif') no-repeat center center; \n",
    "  }\n",
    "\n",
    "</style>\n",
    "\n",
    "<div id=\"preloader\">\n",
    "\n",
    "</div>"
   ]
  },
  {
   "cell_type": "markdown",
   "metadata": {},
   "source": [
    "<h3 align=\"center\">Wrangle and analyze data8 </h3> \n",
    "<h3 align=\"center\">Merzu K Belete </h3> \n",
    "<h3 align=\"center\">May, 2018 </h3> "
   ]
  },
  {
   "cell_type": "markdown",
   "metadata": {},
   "source": [
    "This project was the most challenging and a real practical example that I have enjoyed working. It requires all the skills I acquired starting from gathering multiple data with different formats, assessing, cleaning and explanatory data analysis. Finally, I interepreted the data that are useful to us. <br>\n",
    "\n",
    "Despite it's a real practical project, it is also challenging for me especially gathering the data from the external source (twitter).  Data was gathered from three sources, <br>\n",
    "\n",
    "1) Udacity gave their twitter archives for the tweets of @WeRateDogs in csv format, <br>\n",
    "\n",
    "2) I used Python requests library to get a tsv (tab separated values) file consisting of image predictions of the dog breed in each of the tweets of the first data set, <br>\n",
    "\n",
    "(3) Finally querying the Twitter API using a Python library to download each tweet’s JSON data which includes the favorites and retweets counts. I have stuck several hours to set up my twitter information to query the data with tweepy packages. <br>\n",
    "\n",
    "Once I have all these three data as a dataframe, it is also challenging for me which columns I need and clean both manually by looking columns from the dataframe as well as programmatically.  I have identified and documented several issues with data quality and tidiness.  I tried to fix them programmatically. Moreover, identifying data quality issue was a cyclic process when I thought I cleaned all issue, I will always find an issue and start to fix it. Finally, all the cleaned final dataframe were saved separately. Then I used inner merging on the common column for three dataframe to give a master dataframe. This dataframe was also saved. <br>\n",
    "\n",
    "The final master dataframe was used for explanatory data analysis, and interesting insights were found from this project.  For example, dog rating was increasing over years, suggesting us that beautiful dogs are twitted as time goes on. I also found that @WeRateDogs does not rate dogs between 6 a.m to 1 pm.\n"
   ]
  },
  {
   "cell_type": "raw",
   "metadata": {},
   "source": [
    "<script>\n",
    "  $(document).ready(function(){\n",
    "    $('div.prompt').hide();\n",
    "    $('div.back-to-top').hide();\n",
    "    $('nav#menubar').hide();\n",
    "    $('.breadcrumb').hide();\n",
    "    $('.hidden-print').hide();\n",
    "  });\n",
    "</script>\n",
    "\n",
    "<footer id=\"attribution\" style=\"float:right; color:#999; background:#fff;\">\n",
    "Created by Merzu Belete.\n",
    "</footer>"
   ]
  },
  {
   "cell_type": "code",
   "execution_count": null,
   "metadata": {},
   "outputs": [],
   "source": []
  }
 ],
 "metadata": {
  "kernelspec": {
   "display_name": "Python 2",
   "language": "python",
   "name": "python2"
  },
  "language_info": {
   "codemirror_mode": {
    "name": "ipython",
    "version": 2
   },
   "file_extension": ".py",
   "mimetype": "text/x-python",
   "name": "python",
   "nbconvert_exporter": "python",
   "pygments_lexer": "ipython2",
   "version": "2.7.14"
  }
 },
 "nbformat": 4,
 "nbformat_minor": 2
}
